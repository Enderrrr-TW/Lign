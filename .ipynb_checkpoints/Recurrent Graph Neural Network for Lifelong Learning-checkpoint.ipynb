{
 "cells": [
  {
   "cell_type": "code",
   "execution_count": 3,
   "metadata": {},
   "outputs": [],
   "source": [
    "import torch as th\n",
    "import torch.nn as nn\n",
    "import torch.nn.functional as F\n",
    "import dgl\n",
    "from dgl import function as fn\n",
    "from dgl import DGLGraph\n",
    "from dgl.data import citation_graph as citegrh\n",
    "import networkx as nx\n",
    "import matplotlib.pyplot as plt"
   ]
  },
  {
   "cell_type": "code",
   "execution_count": 4,
   "metadata": {},
   "outputs": [],
   "source": [
    "#monitor and update the graph with new nodes\n",
    "class JGraph():\n",
    "    def __init__(self, g, k): #g graph, g_m\n",
    "        reset(g, k)\n",
    "        \n",
    "    def addNode(self):\n",
    "        self.count+=1\n",
    "        self.G_curr = self.G_orig.subgraph(list(range(self.count)))\n",
    "        self.G_curr.register_message_func(m_func)\n",
    "        self.G_curr.register_reduce_func(m_reduce_func)\n",
    "        \n",
    "        ##### check if send and recv functions are kept after subgraph\n",
    "        \n",
    "        return self.G_curr\n",
    "        \n",
    "    def reset(self, g=None, k=None):\n",
    "        if g is not None: self.G_orig = g\n",
    "        if k is not None: self.k = k\n",
    "        self.count = self.k #added nodes\n",
    "        self.G_curr = self.G_orig.subgraph(list(range(self.count)))\n",
    "        self.G_curr.register_message_func(m_func)\n",
    "        self.G_curr.register_reduce_func(m_reduce_func)\n",
    "        \n",
    "    def lastKNodes(self):\n",
    "        return self.G_curr.edges[self.count-self.k:self.count]\n",
    "\n",
    "    def pull(self):\n",
    "        self.G_curr.pull(list(range(self.count-self.k, self.count)))\n",
    "    \n",
    "    def apply_nodes(self, func):\n",
    "        self.G_curr.apply_nodes(func, v=list(range(self.count-self.k, self.count)))"
   ]
  },
  {
   "cell_type": "code",
   "execution_count": 9,
   "metadata": {},
   "outputs": [],
   "source": [
    "#operation for neigbors\n",
    "class NodeApplyModule(nn.Module):\n",
    "    def __init__(self, in_feats, out_feats, activation):\n",
    "        super(NodeApplyModule, self).__init__()\n",
    "        self.linear = nn.Linear(in_feats, out_feats)\n",
    "        self.activation = activation\n",
    "\n",
    "    def forward(self, node):\n",
    "        h = self.linear(node.data['h'])\n",
    "        if self.activation is not None:\n",
    "            h = self.activation(h)\n",
    "        return {'h' : h}\n",
    "    \n",
    "#operation for neigbors with lstm\n",
    "class NodeApplyModule_LSTM(nn.Module):\n",
    "    def __init__(self, in_feats, out_feats, activation):\n",
    "        super(NodeApplyModule_LSTM, self).__init__()\n",
    "        self.linear = nn.Linear(in_feats, out_feats)\n",
    "        self.activation = activation\n",
    "        #self.lstm = nn.lstm()\n",
    "\n",
    "    def forward(self, node):\n",
    "        h = self.linear(node.data['h'])\n",
    "        if self.activation is not None:\n",
    "            h = self.activation(h)\n",
    "        return {'h' : h}\n",
    "    \n",
    "#gcn layer in network\n",
    "class GCN(nn.Module):\n",
    "    def __init__(self, in_feats, out_feats, activation, lstm = False):\n",
    "        super(GCN, self).__init__()\n",
    "        self.apply_mod = NodeApplyModule_LSTM(in_feats, out_feats, activation) if lstm else NodeApplyModule(in_feats, out_feats, activation)\n",
    "\n",
    "    def forward(self, g, feature):\n",
    "        lastKNodes().ndata['h'] = feature\n",
    "        g.pull() #sums values up for gcn\n",
    "        g.apply_nodes(func=self.apply_mod)\n",
    "        return lastKNodes().pop('h')\n",
    "    \n",
    "#network\n",
    "class RGCN_L2(nn.Module):\n",
    "    def __init__(self, in_feats, out_feats):\n",
    "        super(RGCN_L2, self).__init__()\n",
    "        self.gcn1 = GCN(in_feats, 800, F.relu)\n",
    "        self.gcn2 = GCN(800, 100, F.relu)\n",
    "        self.gcn3 = GCN(100, 50, F.sigmoid, lstm=True)\n",
    "        self.gcn4 = GCN(50, out_feats, F.sigmoid)\n",
    "\n",
    "    def forward(self, g, features):\n",
    "        x = self.gcn1(g, features)\n",
    "        x = self.gcn2(g, x)\n",
    "        x = self.gcn3(g, x)\n",
    "        x = self.gcn4(g, x)\n",
    "        return x"
   ]
  },
  {
   "cell_type": "code",
   "execution_count": 10,
   "metadata": {},
   "outputs": [],
   "source": [
    "#constant parameters\n",
    "\n",
    "m_func = fn.copy_src(src='h', out='m')\n",
    "m_reduce_func = fn.sum(msg='m', out='h')\n",
    "\n",
    "TRACK_K = 50 #number of nodes to track at once\n",
    "DIST_VEC_SIZE = 10\n",
    "\n",
    "#load dataset\n",
    "data = citegrh.load_cora()\n",
    "ds_features = th.FloatTensor(data.features) #convert to pytorch data type #######\n",
    "ds_labels = th.LongTensor(data.labels)\n",
    "ds_train = th.ByteTensor(data.train_mask)\n",
    "ds_test = th.ByteTensor(data.test_mask)\n",
    "ds_g = data.graph\n",
    "\n",
    "# add self loop for the sum of festures\n",
    "ds_g.remove_edges_from(nx.selfloop_edges(ds_g))\n",
    "ds_g = DGLGraph(ds_g)\n",
    "ds_g.add_edges(ds_g.nodes(), ds_g.nodes())\n",
    "\n",
    "ds_g.register_message_func(m_func)\n",
    "ds_g.register_reduce_func(m_reduce_func)\n",
    "\n",
    "\n",
    "model_g = JGraph(ds_g, TRACK_K) #model's graph\n",
    "\n",
    "model = RGCN_L2(ds_features.size()[1], DIST_VEC_SIZE)"
   ]
  },
  {
   "cell_type": "code",
   "execution_count": 12,
   "metadata": {},
   "outputs": [
    {
     "data": {
      "text/plain": [
       "DGLGraph(num_nodes=50, num_edges=66,\n",
       "         ndata_schemes={}\n",
       "         edata_schemes={})"
      ]
     },
     "execution_count": 12,
     "metadata": {},
     "output_type": "execute_result"
    }
   ],
   "source": [
    "model_g.G_curr"
   ]
  },
  {
   "cell_type": "code",
   "execution_count": null,
   "metadata": {},
   "outputs": [],
   "source": []
  }
 ],
 "metadata": {
  "kernelspec": {
   "display_name": "Python 3",
   "language": "python",
   "name": "python3"
  },
  "language_info": {
   "codemirror_mode": {
    "name": "ipython",
    "version": 3
   },
   "file_extension": ".py",
   "mimetype": "text/x-python",
   "name": "python",
   "nbconvert_exporter": "python",
   "pygments_lexer": "ipython3",
   "version": "3.7.5"
  }
 },
 "nbformat": 4,
 "nbformat_minor": 2
}
