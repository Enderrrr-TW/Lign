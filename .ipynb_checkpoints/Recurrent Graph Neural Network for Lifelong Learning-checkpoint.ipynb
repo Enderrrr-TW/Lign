{
 "cells": [
  {
   "cell_type": "code",
   "execution_count": 1,
   "metadata": {},
   "outputs": [
    {
     "name": "stdout",
     "output_type": "stream",
     "text": [
      "GPU is available\n"
     ]
    }
   ],
   "source": [
    "import torch as th\n",
    "import torch.nn as nn\n",
    "import torch.nn.functional as F\n",
    "import dgl\n",
    "from dgl import function as fn\n",
    "from dgl import DGLGraph\n",
    "from dgl.data import citation_graph as citegrh\n",
    "import networkx as nx\n",
    "import matplotlib.pyplot as plt\n",
    "\n",
    "#set gpu is available\n",
    "if th.cuda.is_available():\n",
    "    device = th.device(\"cuda\")\n",
    "    print(\"GPU is available\")\n",
    "else:\n",
    "    device = th.device(\"cpu\")\n",
    "    print(\"GPU not available, CPU used\")"
   ]
  },
  {
   "cell_type": "code",
   "execution_count": 2,
   "metadata": {},
   "outputs": [],
   "source": [
    "#operation for neigbors\n",
    "class NodeApplyModule(nn.Module):\n",
    "    def __init__(self, in_feats, out_feats, activation):\n",
    "        super(NodeApplyModule, self).__init__()\n",
    "        self.linear = nn.Linear(in_feats, out_feats)\n",
    "        self.activation = activation\n",
    "\n",
    "    def forward(self, node):\n",
    "        h = self.linear(node.data['h'])\n",
    "        if self.activation is not None:\n",
    "            h = self.activation(h)\n",
    "        return {'h' : h}\n",
    "    \n",
    "#gcn layer in network\n",
    "class GCN(nn.Module):\n",
    "    def __init__(self, in_feats, out_feats, activation, k):\n",
    "        super(GCN, self).__init__()\n",
    "        self.apply_mod = NodeApplyModule(in_feats, out_feats, activation)\n",
    "        self.k = k\n",
    "\n",
    "    def forward(self, g, feature):\n",
    "        \n",
    "        g.nodes[g.nodes()[-self.k:]].data['h'] = feature\n",
    "        \n",
    "        #g.pull() #sums values up for gcn\n",
    "        g.pull(g.nodes()[-self.k:])\n",
    "        \n",
    "        #g.apply_nodes(func=self.apply_mod)\n",
    "        g.apply_nodes(self.apply_mod, v=g.nodes()[-self.k:])\n",
    "        \n",
    "        return g.nodes[g.nodes()[-self.k:]].pop('h')\n",
    "    \n",
    "#lstm layer in network\n",
    "class G_LSTM(nn.Module):\n",
    "    def __init__(self, in_feats, out_feats, k):\n",
    "        super(G_LSTM, self).__init__()\n",
    "        self.lstm = nn.LSTM(k*in_feats, out_feats*k, 1)\n",
    "        self.out_feats = out_feats\n",
    "        self.k = k\n",
    "\n",
    "    def forward(self, g, feature, hidden):\n",
    "        out, hidden = self.lstm(feature.view(1, -1), hidden)\n",
    "        return out.view(self.k, self.out_feats), hidden\n",
    "    \n",
    "#network\n",
    "class RGCN_L2(nn.Module):\n",
    "    def __init__(self, in_feats, out_feats, k):\n",
    "        super(RGCN_L2, self).__init__()\n",
    "        self.gcn1 = GCN(in_feats, 800, F.relu, k)\n",
    "        self.gcn2 = GCN(800, 100, F.relu, k)\n",
    "        self.lstm1 = G_LSTM(100, 100, k)\n",
    "        self.gcn3 = GCN(100, out_feats, F.tanh, k)\n",
    "        \n",
    "        self.k = k\n",
    "\n",
    "    def forward(self, g, features, hidden):\n",
    "        x = self.gcn1(g, features)\n",
    "        x = self.gcn2(g, x)\n",
    "        x, hidden = self.lstm1(g, x, hidden)\n",
    "        \n",
    "        return self.gcn3(g, x), hidden\n"
   ]
  },
  {
   "cell_type": "code",
   "execution_count": 62,
   "metadata": {},
   "outputs": [],
   "source": [
    "#loss function\n",
    "def similarity_matrix(mat):\n",
    "    # get the product x * y\n",
    "    # here, y = x.t()\n",
    "    r = th.mm(mat, mat.t())\n",
    "    # get the diagonal elements\n",
    "    diag = r.diag().unsqueeze(0)\n",
    "    diag = diag.expand_as(r)\n",
    "    # compute the distance matrix\n",
    "    D = diag + diag.t() - 2*r\n",
    "    return D.sqrt()\n",
    "\n",
    "def same_label(y):\n",
    "    s = y.size(0)\n",
    "    y_expand = y.unsqueeze(0).expand(s, s)\n",
    "    Y = y_expand.eq(y_expand.t())\n",
    "    return Y\n",
    "\n",
    "def my_loss(output, labels):\n",
    "    \"\"\"\n",
    "    if nodes with the same label: x^2\n",
    "    if nodes with different label: 1/x\n",
    "    \"\"\"\n",
    "    sim = similarity_matrix(output)\n",
    "    same_l = same_label(labels)\n",
    "    same_l_inv = same_l*(-1) + 1\n",
    "    \n",
    "    loss = (th.sum(th.mul(sim, same_l))**2) + (1/th.sum(th.mul(sim, same_l_inv))) \n",
    "    \n",
    "    return loss"
   ]
  },
  {
   "cell_type": "code",
   "execution_count": 4,
   "metadata": {},
   "outputs": [],
   "source": [
    "#load dataset\n",
    "data = citegrh.load_cora()\n",
    "ds_features = th.FloatTensor(data.features) #convert to pytorch data type #######\n",
    "ds_labels = th.LongTensor(data.labels)\n",
    "ds_train = th.ByteTensor(data.train_mask)\n",
    "ds_test = th.ByteTensor(data.test_mask)\n",
    "ds_g = data.graph\n",
    "\n",
    "# add self loop for the sum of festures\n",
    "ds_g.remove_edges_from(nx.selfloop_edges(ds_g))\n",
    "ds_g = DGLGraph(ds_g)\n",
    "ds_g.add_edges(ds_g.nodes(), ds_g.nodes())\n",
    "ds_g.ndata['label'] = ds_labels #used to filter\n",
    "\n",
    "m_func = fn.copy_src(src='h', out='m')\n",
    "m_reduce_func = fn.sum(msg='m', out='h')\n",
    "\n",
    "ds_g.register_message_func(m_func)\n",
    "ds_g.register_reduce_func(m_reduce_func)"
   ]
  },
  {
   "cell_type": "code",
   "execution_count": 5,
   "metadata": {},
   "outputs": [],
   "source": [
    "########### Create Model ############\n",
    "\n",
    "#constant parameters\n",
    "TRACK_K = 50 #number of nodes to track at once\n",
    "DIST_VEC_SIZE = 10\n",
    "\n",
    "model = RGCN_L2(ds_features.size()[1], DIST_VEC_SIZE, TRACK_K)\n"
   ]
  },
  {
   "cell_type": "code",
   "execution_count": null,
   "metadata": {},
   "outputs": [],
   "source": [
    "#training\n",
    "opt = th.optim.Adam(model.parameters(), lr=1e-3)\n",
    "\n",
    "for epoch in range(50):\n",
    "    pass"
   ]
  },
  {
   "cell_type": "code",
   "execution_count": 8,
   "metadata": {},
   "outputs": [
    {
     "data": {
      "text/plain": [
       "tensor([1, 1, 1, 1, 1, 1, 1, 1, 1, 1], dtype=torch.uint8)"
      ]
     },
     "execution_count": 8,
     "metadata": {},
     "output_type": "execute_result"
    }
   ],
   "source": [
    "ds_train[:10]"
   ]
  },
  {
   "cell_type": "code",
   "execution_count": 9,
   "metadata": {},
   "outputs": [
    {
     "data": {
      "text/plain": [
       "tensor([0, 0, 0, 0, 0, 0, 0, 0, 0, 0], dtype=torch.uint8)"
      ]
     },
     "execution_count": 9,
     "metadata": {},
     "output_type": "execute_result"
    }
   ],
   "source": [
    "ds_test[:10]"
   ]
  },
  {
   "cell_type": "code",
   "execution_count": null,
   "metadata": {},
   "outputs": [],
   "source": []
  }
 ],
 "metadata": {
  "kernelspec": {
   "display_name": "Python 3",
   "language": "python",
   "name": "python3"
  },
  "language_info": {
   "codemirror_mode": {
    "name": "ipython",
    "version": 3
   },
   "file_extension": ".py",
   "mimetype": "text/x-python",
   "name": "python",
   "nbconvert_exporter": "python",
   "pygments_lexer": "ipython3",
   "version": "3.7.5"
  }
 },
 "nbformat": 4,
 "nbformat_minor": 2
}
