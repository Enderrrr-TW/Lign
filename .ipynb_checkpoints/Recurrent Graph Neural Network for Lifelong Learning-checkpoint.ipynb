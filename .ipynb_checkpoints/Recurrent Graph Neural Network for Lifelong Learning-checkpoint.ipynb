{
 "cells": [
  {
   "cell_type": "code",
   "execution_count": 53,
   "metadata": {},
   "outputs": [
    {
     "name": "stdout",
     "output_type": "stream",
     "text": [
      "GPU not available, CPU used\n"
     ]
    }
   ],
   "source": [
    "import torch as th\n",
    "import torch.nn as nn\n",
    "import torch.nn.functional as F\n",
    "import dgl\n",
    "from dgl import function as fn\n",
    "from dgl import DGLGraph\n",
    "from dgl.data import citation_graph as citegrh\n",
    "import networkx as nx\n",
    "import matplotlib.pyplot as plt\n",
    "\n",
    "\n",
    "#set gpu is available\n",
    "if th.cuda.is_available():\n",
    "    device = th.device(\"cuda\")\n",
    "    print(\"GPU is available\")\n",
    "else:\n",
    "    device = th.device(\"cpu\")\n",
    "    print(\"GPU not available, CPU used\")"
   ]
  },
  {
   "cell_type": "code",
   "execution_count": 55,
   "metadata": {},
   "outputs": [],
   "source": [
    "#operation for neigbors\n",
    "class NodeApplyModule(nn.Module):\n",
    "    def __init__(self, in_feats, out_feats, activation):\n",
    "        super(NodeApplyModule, self).__init__()\n",
    "        self.linear = nn.Linear(in_feats, out_feats)\n",
    "        self.activation = activation\n",
    "\n",
    "    def forward(self, node):\n",
    "        h = self.linear(node.data['h'])\n",
    "        if self.activation is not None:\n",
    "            h = self.activation(h)\n",
    "        return {'h' : h}\n",
    "    \n",
    "#gcn layer in network\n",
    "class GCN(nn.Module):\n",
    "    def __init__(self, in_feats, out_feats, activation, k):\n",
    "        super(GCN, self).__init__()\n",
    "        self.apply_mod = NodeApplyModule(in_feats, out_feats, activation)\n",
    "        self.k = k\n",
    "\n",
    "    def forward(self, g, feature):\n",
    "        \n",
    "        g.nodes[g.nodes()[-self.k:]].data['h'] = feature\n",
    "        \n",
    "        #g.pull() #sums values up for gcn\n",
    "        g.pull(g.nodes()[-self.k:])\n",
    "        \n",
    "        #g.apply_nodes(func=self.apply_mod)\n",
    "        g.apply_nodes(func, v=g.nodes()[-self.k:])\n",
    "        \n",
    "        return g.nodes[g.nodes()[-self.k:]].pop('h')\n",
    "    \n",
    "#lstm layer in network\n",
    "class G_LSTM(nn.Module):\n",
    "    def __init__(self, in_feats, out_feats, k):\n",
    "        super(G_LSTM, self).__init__()\n",
    "        self.lstm = nn.LSTM(k*in_feats, out_feats*k, 1)\n",
    "        self.out_feats = out_feats\n",
    "        self.k = k\n",
    "\n",
    "    def forward(self, g, feature, hidden):\n",
    "        out, hidden = self.lstm(feature.view(1, -1), hidden)\n",
    "        return out.view(self.k, self.out_feats), hidden\n",
    "    \n",
    "#network\n",
    "class RGCN_L2(nn.Module):\n",
    "    def __init__(self, in_feats, out_feats, k):\n",
    "        super(RGCN_L2, self).__init__()\n",
    "        self.gcn1 = GCN(in_feats, 800, F.relu, k)\n",
    "        self.gcn2 = GCN(800, 100, F.relu, k)\n",
    "        self.lstm1 = G_LSTM(100, 100, k)\n",
    "        self.gcn3 = GCN(100, out_feats, F.tanh, k)\n",
    "        \n",
    "        self.k = k\n",
    "\n",
    "    def forward(self, g, features, hidden):\n",
    "        x = self.gcn1(g, features)\n",
    "        x = self.gcn2(g, x)\n",
    "        x, hidden = self.lstm1(g, x, hidden)\n",
    "        \n",
    "        return self.gcn3(g, x), hidden\n"
   ]
  },
  {
   "cell_type": "code",
   "execution_count": 62,
   "metadata": {},
   "outputs": [],
   "source": [
    "#loss function\n",
    "def my_loss(output, target, g):\n",
    "    #close distance for output with the same target label, far otherwise\n",
    "    loss = th.mean((output - target)**2)\n",
    "    return loss\n"
   ]
  },
  {
   "cell_type": "code",
   "execution_count": 60,
   "metadata": {},
   "outputs": [],
   "source": [
    "#load dataset\n",
    "data = citegrh.load_cora()\n",
    "ds_features = th.FloatTensor(data.features) #convert to pytorch data type #######\n",
    "ds_labels = th.LongTensor(data.labels)\n",
    "ds_train = th.ByteTensor(data.train_mask)\n",
    "ds_test = th.ByteTensor(data.test_mask)\n",
    "ds_g = data.graph\n",
    "\n",
    "# add self loop for the sum of festures\n",
    "ds_g.remove_edges_from(nx.selfloop_edges(ds_g))\n",
    "ds_g = DGLGraph(ds_g)\n",
    "ds_g.add_edges(ds_g.nodes(), ds_g.nodes())\n",
    "ds_g.ndata['label'] = ds_labels\n",
    "\n",
    "ds_g.register_message_func(m_func)\n",
    "ds_g.register_reduce_func(m_reduce_func)"
   ]
  },
  {
   "cell_type": "code",
   "execution_count": 61,
   "metadata": {},
   "outputs": [],
   "source": [
    "########### Create Model ############\n",
    "\n",
    "#constant parameters\n",
    "m_func = fn.copy_src(src='h', out='m')\n",
    "m_reduce_func = fn.sum(msg='m', out='h')\n",
    "\n",
    "TRACK_K = 50 #number of nodes to track at once\n",
    "DIST_VEC_SIZE = 10\n",
    "\n",
    "model = RGCN_L2(ds_features.size()[1], DIST_VEC_SIZE, TRACK_K)\n"
   ]
  },
  {
   "cell_type": "code",
   "execution_count": null,
   "metadata": {},
   "outputs": [],
   "source": [
    "#training\n",
    "\n",
    "opt = th.optim.Adam(model.parameters(), lr=1e-3)\n",
    "\n",
    "for epoch in range(50):\n",
    "    pass"
   ]
  },
  {
   "cell_type": "code",
   "execution_count": 89,
   "metadata": {},
   "outputs": [
    {
     "data": {
      "text/plain": [
       "{'label': tensor([1, 1, 1, 0, 2]), 'label2': tensor([0, 0, 1, 0, 2])}"
      ]
     },
     "execution_count": 89,
     "metadata": {},
     "output_type": "execute_result"
    }
   ],
   "source": [
    "#ds_g.nodes[ds_g.nodes()[-3:]].data['label2'] = ds_labels[-3:]\n",
    "ds_g.nodes[ds_g.nodes()[-5:]].data"
   ]
  },
  {
   "cell_type": "code",
   "execution_count": null,
   "metadata": {},
   "outputs": [],
   "source": []
  }
 ],
 "metadata": {
  "kernelspec": {
   "display_name": "Python 3",
   "language": "python",
   "name": "python3"
  },
  "language_info": {
   "codemirror_mode": {
    "name": "ipython",
    "version": 3
   },
   "file_extension": ".py",
   "mimetype": "text/x-python",
   "name": "python",
   "nbconvert_exporter": "python",
   "pygments_lexer": "ipython3",
   "version": "3.7.5"
  }
 },
 "nbformat": 4,
 "nbformat_minor": 2
}
