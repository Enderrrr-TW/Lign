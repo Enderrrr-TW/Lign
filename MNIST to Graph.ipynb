{
 "cells": [
  {
   "cell_type": "code",
   "execution_count": 1,
   "metadata": {},
   "outputs": [],
   "source": [
    "import torch as th\n",
    "import torch.nn as nn\n",
    "import torch.nn.functional as F\n",
    "\n",
    "import dgl\n",
    "from dgl import DGLGraph\n",
    "from dgl.data.utils import save_graphs, load_graphs\n",
    "\n",
    "import networkx as nx\n",
    "import random as rand\n",
    "import numpy as np\n",
    "import pandas as pd"
   ]
  },
  {
   "cell_type": "code",
   "execution_count": 2,
   "metadata": {},
   "outputs": [
    {
     "name": "stdout",
     "output_type": "stream",
     "text": [
      "GPU is available\n"
     ]
    }
   ],
   "source": [
    "\n",
    "#set gpu if available\n",
    "if th.cuda.is_available():\n",
    "    print(\"GPU is available\")\n",
    "    #device = th.device(\"cuda\")\n",
    "    device = th.device(\"cuda\")\n",
    "else:\n",
    "    print(\"GPU not available, CPU used\")\n",
    "    device = th.device(\"cpu\")"
   ]
  },
  {
   "cell_type": "code",
   "execution_count": 3,
   "metadata": {},
   "outputs": [],
   "source": [
    "#load MNIST dataset\n",
    "\n",
    "df = pd.read_csv('mnist/mnist_train.csv')\n",
    "lab = df['label']\n",
    "fea = df.drop(columns=['label'])\n",
    "\n",
    "SIZE = 10000"
   ]
  },
  {
   "cell_type": "code",
   "execution_count": 6,
   "metadata": {},
   "outputs": [],
   "source": [
    "#set up graph\n",
    "ds_features = th.FloatTensor(fea.to_numpy()[:SIZE]).to(device) #convert to pytorch data type and add to cpu/gpu\n",
    "ds_labels = th.LongTensor(lab.to_numpy()[:SIZE]).to(device)\n",
    "\n",
    "ds_g = DGLGraph()\n",
    "ds_g.add_nodes(len(ds_labels))\n",
    "ds_g.add_edges(ds_g.nodes(), ds_g.nodes())\n",
    "\n",
    "ds_g.ndata['features'] = ds_features / 255.0\n",
    "ds_g.ndata['t_labels'] = ds_labels #used to filter and train the first two labels, not needed for prediction\n",
    "\n",
    "save_graphs(\"mnist/graph2.bin\", [ds_g])"
   ]
  },
  {
   "cell_type": "code",
   "execution_count": 7,
   "metadata": {},
   "outputs": [
    {
     "data": {
      "text/plain": [
       "tensor([[0., 0., 0.,  ..., 0., 0., 0.],\n",
       "        [0., 0., 0.,  ..., 0., 0., 0.],\n",
       "        [0., 0., 0.,  ..., 0., 0., 0.],\n",
       "        ...,\n",
       "        [0., 0., 0.,  ..., 0., 0., 0.],\n",
       "        [0., 0., 0.,  ..., 0., 0., 0.],\n",
       "        [0., 0., 0.,  ..., 0., 0., 0.]])"
      ]
     },
     "execution_count": 7,
     "metadata": {},
     "output_type": "execute_result"
    }
   ],
   "source": [
    "glist, label_dict = load_graphs(\"mnist/graph2.bin\")\n",
    "\n",
    "glist[0].ndata['features']"
   ]
  },
  {
   "cell_type": "code",
   "execution_count": null,
   "metadata": {},
   "outputs": [],
   "source": []
  }
 ],
 "metadata": {
  "kernelspec": {
   "display_name": "Python 3",
   "language": "python",
   "name": "python3"
  },
  "language_info": {
   "codemirror_mode": {
    "name": "ipython",
    "version": 3
   },
   "file_extension": ".py",
   "mimetype": "text/x-python",
   "name": "python",
   "nbconvert_exporter": "python",
   "pygments_lexer": "ipython3",
   "version": "3.7.5"
  }
 },
 "nbformat": 4,
 "nbformat_minor": 2
}
