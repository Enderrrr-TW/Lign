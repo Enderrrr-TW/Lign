{
 "cells": [
  {
   "cell_type": "code",
   "execution_count": 1,
   "metadata": {},
   "outputs": [
    {
     "name": "stdout",
     "output_type": "stream",
     "text": [
      "GPU is available\n"
     ]
    }
   ],
   "source": [
    "import torch as th\n",
    "import torch.nn as nn\n",
    "import torch.nn.functional as F\n",
    "import dgl\n",
    "from dgl import function as fn\n",
    "from dgl import DGLGraph\n",
    "from dgl.data import citation_graph as citegrh\n",
    "import networkx as nx\n",
    "import matplotlib.pyplot as plt\n",
    "import random as rand\n",
    "import numpy as np\n",
    "\n",
    "#set gpu is available\n",
    "if th.cuda.is_available():\n",
    "    device = th.device(\"cuda\")\n",
    "    print(\"GPU is available\")\n",
    "else:\n",
    "    device = th.device(\"cpu\")\n",
    "    print(\"GPU not available, CPU used\")"
   ]
  },
  {
   "cell_type": "code",
   "execution_count": 2,
   "metadata": {},
   "outputs": [],
   "source": [
    "#operation for neigbors\n",
    "class NodeApplyModule(nn.Module):\n",
    "    def __init__(self, in_feats, out_feats, activation):\n",
    "        super(NodeApplyModule, self).__init__()\n",
    "        self.linear = nn.Linear(in_feats, out_feats)\n",
    "        self.activation = activation\n",
    "\n",
    "    def forward(self, node):\n",
    "        h = self.linear(node.data['h'])\n",
    "        if self.activation is not None:\n",
    "            h = self.activation(h)\n",
    "        return {'h' : h}\n",
    "    \n",
    "#gcn layer in network\n",
    "class GCN(nn.Module):\n",
    "    def __init__(self, in_feats, out_feats, activation):\n",
    "        super(GCN, self).__init__()\n",
    "        self.apply_mod = NodeApplyModule(in_feats, out_feats, activation)\n",
    "\n",
    "    def forward(self, g, feature):\n",
    "        \n",
    "        g.ndata['h'] = feature\n",
    "        g.pull(g.nodes())\n",
    "        g.apply_nodes(self.apply_mod)\n",
    "        \n",
    "        return g.ndata.pop('h')\n",
    "    \n",
    "#network\n",
    "class GCN_LL(nn.Module):\n",
    "    def __init__(self, in_feats, out_feats):\n",
    "        super(GCN_LL, self).__init__()\n",
    "        self.gcn1 = GCN(in_feats, 800, F.relu)\n",
    "        self.gcn2 = GCN(800, 100, F.relu)\n",
    "        self.gcn3 = GCN(100, out_feats, F.tanh)\n",
    "\n",
    "    def forward(self, g, features):\n",
    "        x = self.gcn1(g, features)\n",
    "        x = self.gcn2(g, x)\n",
    "        \n",
    "        return self.gcn3(g, x)\n"
   ]
  },
  {
   "cell_type": "code",
   "execution_count": 10,
   "metadata": {},
   "outputs": [],
   "source": [
    "#loss function\n",
    "\n",
    "\"\"\"Here is an implementation for your similarity_matrix using only matrix operations. It can run on the GPU and is going to be significantly faster than your previous implementation.\n",
    "https://discuss.pytorch.org/t/build-your-own-loss-function-in-pytorch/235/6\n",
    "\"\"\"\n",
    "\n",
    "def my_loss(output, labels):\n",
    "    \"\"\"\n",
    "    if nodes with the same label: x^2\n",
    "    if nodes with different label: 1/x\n",
    "    \"\"\"\n",
    "    \n",
    "    def similarity_matrix(mat):\n",
    "        # get the product x * y\n",
    "        # here, y = x.t()\n",
    "        r = th.mm(mat, mat.t())\n",
    "        # get the diagonal elements\n",
    "        diag = r.diag().unsqueeze(0)\n",
    "        diag = diag.expand_as(r)\n",
    "        # compute the distance matrix\n",
    "        D = diag + diag.t() - 2*r\n",
    "        return D.sqrt()\n",
    "\n",
    "    def same_label(y):\n",
    "        s = y.size(0)\n",
    "        y_expand = y.unsqueeze(0).expand(s, s)\n",
    "        Y = y_expand.eq(y_expand.t())\n",
    "        return Y\n",
    "    \n",
    "    sim = similarity_matrix(output)\n",
    "    same_l = same_label(labels)\n",
    "    same_l_inv = same_l*(-1) + 1\n",
    "    \n",
    "    loss = (th.sum(th.mul(sim, same_l))**2) + (1/th.sum(th.mul(sim, same_l_inv))) \n",
    "    \n",
    "    return loss\n"
   ]
  },
  {
   "cell_type": "code",
   "execution_count": 4,
   "metadata": {},
   "outputs": [],
   "source": [
    "#load dataset\n",
    "data = citegrh.load_cora()\n",
    "ds_features = th.FloatTensor(data.features) #convert to pytorch data type #######\n",
    "ds_labels = th.LongTensor(data.labels)\n",
    "ds_train = th.ByteTensor(data.train_mask)\n",
    "ds_test = th.ByteTensor(data.test_mask)\n",
    "ds_g = data.graph\n",
    "\n",
    "# add self loop for the sum of festures\n",
    "ds_g.remove_edges_from(nx.selfloop_edges(ds_g))\n",
    "ds_g = DGLGraph(ds_g)\n",
    "ds_g.add_edges(ds_g.nodes(), ds_g.nodes())\n",
    "ds_g.ndata['label'] = ds_labels #used to filter and train, not needed for prediction\n",
    "\n",
    "m_func = fn.copy_src(src='h', out='m')\n",
    "m_reduce_func = fn.sum(msg='m', out='h')\n",
    "\n",
    "ds_g.register_message_func(m_func)\n",
    "ds_g.register_reduce_func(m_reduce_func)"
   ]
  },
  {
   "cell_type": "code",
   "execution_count": 11,
   "metadata": {},
   "outputs": [],
   "source": [
    "########### Create Model ############\n",
    "\n",
    "#constant parameters\n",
    "DIST_VEC_SIZE = 10\n",
    "\n",
    "model = GCN_LL(ds_features.size()[1], DIST_VEC_SIZE)\n"
   ]
  },
  {
   "cell_type": "code",
   "execution_count": 12,
   "metadata": {},
   "outputs": [
    {
     "ename": "RuntimeError",
     "evalue": "invalid argument 10: ldb should be at least max(1, 0), but have 0 at C:\\w\\1\\s\\tmp_conda_3.7_104508\\conda\\conda-bld\\pytorch_1572950778684\\work\\aten\\src\\TH/generic/THBlas.cpp:365",
     "output_type": "error",
     "traceback": [
      "\u001b[1;31m---------------------------------------------------------------------------\u001b[0m",
      "\u001b[1;31mRuntimeError\u001b[0m                              Traceback (most recent call last)",
      "\u001b[1;32m<ipython-input-12-8ffbd710d284>\u001b[0m in \u001b[0;36m<module>\u001b[1;34m\u001b[0m\n\u001b[0;32m     23\u001b[0m \u001b[1;33m\u001b[0m\u001b[0m\n\u001b[0;32m     24\u001b[0m         \u001b[0mopt\u001b[0m\u001b[1;33m.\u001b[0m\u001b[0mzero_grad\u001b[0m\u001b[1;33m(\u001b[0m\u001b[1;33m)\u001b[0m\u001b[1;33m\u001b[0m\u001b[1;33m\u001b[0m\u001b[0m\n\u001b[1;32m---> 25\u001b[1;33m         \u001b[0mloss\u001b[0m\u001b[1;33m.\u001b[0m\u001b[0mbackward\u001b[0m\u001b[1;33m(\u001b[0m\u001b[1;33m)\u001b[0m\u001b[1;33m\u001b[0m\u001b[1;33m\u001b[0m\u001b[0m\n\u001b[0m\u001b[0;32m     26\u001b[0m         \u001b[0mopt\u001b[0m\u001b[1;33m.\u001b[0m\u001b[0mstep\u001b[0m\u001b[1;33m(\u001b[0m\u001b[1;33m)\u001b[0m\u001b[1;33m\u001b[0m\u001b[1;33m\u001b[0m\u001b[0m\n\u001b[0;32m     27\u001b[0m \u001b[1;33m\u001b[0m\u001b[0m\n",
      "\u001b[1;32m~\\Anaconda3\\envs\\master_thesis\\lib\\site-packages\\torch\\tensor.py\u001b[0m in \u001b[0;36mbackward\u001b[1;34m(self, gradient, retain_graph, create_graph)\u001b[0m\n\u001b[0;32m    164\u001b[0m                 \u001b[0mproducts\u001b[0m\u001b[1;33m.\u001b[0m \u001b[0mDefaults\u001b[0m \u001b[0mto\u001b[0m\u001b[0;31m \u001b[0m\u001b[0;31m`\u001b[0m\u001b[0;31m`\u001b[0m\u001b[1;32mFalse\u001b[0m\u001b[0;31m`\u001b[0m\u001b[0;31m`\u001b[0m\u001b[1;33m.\u001b[0m\u001b[1;33m\u001b[0m\u001b[1;33m\u001b[0m\u001b[0m\n\u001b[0;32m    165\u001b[0m         \"\"\"\n\u001b[1;32m--> 166\u001b[1;33m         \u001b[0mtorch\u001b[0m\u001b[1;33m.\u001b[0m\u001b[0mautograd\u001b[0m\u001b[1;33m.\u001b[0m\u001b[0mbackward\u001b[0m\u001b[1;33m(\u001b[0m\u001b[0mself\u001b[0m\u001b[1;33m,\u001b[0m \u001b[0mgradient\u001b[0m\u001b[1;33m,\u001b[0m \u001b[0mretain_graph\u001b[0m\u001b[1;33m,\u001b[0m \u001b[0mcreate_graph\u001b[0m\u001b[1;33m)\u001b[0m\u001b[1;33m\u001b[0m\u001b[1;33m\u001b[0m\u001b[0m\n\u001b[0m\u001b[0;32m    167\u001b[0m \u001b[1;33m\u001b[0m\u001b[0m\n\u001b[0;32m    168\u001b[0m     \u001b[1;32mdef\u001b[0m \u001b[0mregister_hook\u001b[0m\u001b[1;33m(\u001b[0m\u001b[0mself\u001b[0m\u001b[1;33m,\u001b[0m \u001b[0mhook\u001b[0m\u001b[1;33m)\u001b[0m\u001b[1;33m:\u001b[0m\u001b[1;33m\u001b[0m\u001b[1;33m\u001b[0m\u001b[0m\n",
      "\u001b[1;32m~\\Anaconda3\\envs\\master_thesis\\lib\\site-packages\\torch\\autograd\\__init__.py\u001b[0m in \u001b[0;36mbackward\u001b[1;34m(tensors, grad_tensors, retain_graph, create_graph, grad_variables)\u001b[0m\n\u001b[0;32m     97\u001b[0m     Variable._execution_engine.run_backward(\n\u001b[0;32m     98\u001b[0m         \u001b[0mtensors\u001b[0m\u001b[1;33m,\u001b[0m \u001b[0mgrad_tensors\u001b[0m\u001b[1;33m,\u001b[0m \u001b[0mretain_graph\u001b[0m\u001b[1;33m,\u001b[0m \u001b[0mcreate_graph\u001b[0m\u001b[1;33m,\u001b[0m\u001b[1;33m\u001b[0m\u001b[1;33m\u001b[0m\u001b[0m\n\u001b[1;32m---> 99\u001b[1;33m         allow_unreachable=True)  # allow_unreachable flag\n\u001b[0m\u001b[0;32m    100\u001b[0m \u001b[1;33m\u001b[0m\u001b[0m\n\u001b[0;32m    101\u001b[0m \u001b[1;33m\u001b[0m\u001b[0m\n",
      "\u001b[1;31mRuntimeError\u001b[0m: invalid argument 10: ldb should be at least max(1, 0), but have 0 at C:\\w\\1\\s\\tmp_conda_3.7_104508\\conda\\conda-bld\\pytorch_1572950778684\\work\\aten\\src\\TH/generic/THBlas.cpp:365"
     ]
    }
   ],
   "source": [
    "#training\n",
    "opt = th.optim.Adam(model.parameters(), lr=1e-3)\n",
    "\n",
    "model.train()\n",
    "for epoch in range(200):\n",
    "    r = list(range(int(len(ds_g)*.1))) #80 percent of all the nodes\n",
    "    rand.shuffle(r)\n",
    "    \n",
    "    error = [0]\n",
    "    acc = [0] #accuracy\n",
    "    for count in r:\n",
    "        sub_graph = ds_g.subgraph(ds_g.nodes()[:count])\n",
    "        sub_graph.register_message_func(m_func)\n",
    "        sub_graph.register_reduce_func(m_reduce_func)\n",
    "        \n",
    "        feats = ds_features[:count]\n",
    "        labs = ds_labels[:count]\n",
    "        \n",
    "        out = model(sub_graph, feats)\n",
    "        \n",
    "        loss = my_loss(out, labs)\n",
    "        error.append(loss)\n",
    "        \n",
    "        opt.zero_grad()\n",
    "        loss.backward()\n",
    "        opt.step()\n",
    "    \n",
    "    print(\"Epoch {epoch}: \\n\\tavg error = {np.mean(error)} \\n\\tlast error = {error[-1]} \\n\\tavg accuracy = {np.mean(acc)} \\n\\tlast accuracy = {acc[-1]} \")\n",
    "    \n",
    "    if(epoch%44 == 0 and DIST_VEC_SIZE == 2):\n",
    "        pass"
   ]
  },
  {
   "cell_type": "code",
   "execution_count": 89,
   "metadata": {},
   "outputs": [
    {
     "data": {
      "text/plain": [
       "{'label': tensor([1, 1, 1, 0, 2]), 'label2': tensor([0, 0, 1, 0, 2])}"
      ]
     },
     "execution_count": 89,
     "metadata": {},
     "output_type": "execute_result"
    }
   ],
   "source": [
    "#ds_g.nodes[ds_g.nodes()[-3:]].data['label2'] = ds_labels[-3:]\n",
    "ds_g.nodes[ds_g.nodes()[-5:]].data"
   ]
  },
  {
   "cell_type": "code",
   "execution_count": null,
   "metadata": {},
   "outputs": [],
   "source": []
  }
 ],
 "metadata": {
  "kernelspec": {
   "display_name": "Python 3",
   "language": "python",
   "name": "python3"
  },
  "language_info": {
   "codemirror_mode": {
    "name": "ipython",
    "version": 3
   },
   "file_extension": ".py",
   "mimetype": "text/x-python",
   "name": "python",
   "nbconvert_exporter": "python",
   "pygments_lexer": "ipython3",
   "version": "3.7.5"
  }
 },
 "nbformat": 4,
 "nbformat_minor": 2
}
