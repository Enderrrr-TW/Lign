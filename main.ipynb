{
 "cells": [
  {
   "cell_type": "markdown",
   "metadata": {},
   "source": [
    "# LIGN\n",
    "Graph Induced Lifelong Learning for Spatial-Temporal Data\n",
    "\n",
    "----\n",
    "\n",
    "## Imports"
   ]
  },
  {
   "cell_type": "code",
   "execution_count": 1,
   "metadata": {
    "tags": []
   },
   "outputs": [],
   "source": [
    "import lign as lg\n",
    "import lign.models as md\n",
    "import lign.utils as utl\n",
    "\n",
    "import torch as th\n",
    "import torchvision as tv\n",
    "import torch.nn as nn\n",
    "import torch.nn.functional as F\n",
    "\n",
    "import numpy as np\n",
    "import datetime\n",
    "tm_now = datetime.datetime.now\n",
    "from torch.cuda.amp import GradScaler"
   ]
  },
  {
   "cell_type": "markdown",
   "metadata": {},
   "source": [
    "----\n",
    "\n",
    "## Preprocessing \n",
    "\n",
    "### Create Dataset"
   ]
  },
  {
   "cell_type": "code",
   "execution_count": null,
   "metadata": {
    "tags": []
   },
   "outputs": [],
   "source": [
    "trans = tv.transforms.Compose([\n",
    "    tv.transforms.ToTensor(),\n",
    "    tv.transforms.Normalize(mean=[0.5, 0.5, 0.5], std=[0.5, 0.5, 0.5])\n",
    "])\n",
    "\n",
    "dataset = utl.io.cifar_to_lign(\"data/datasets/CIFAR100\", transforms = trans)\n",
    "dataset.save(\"data/datasets/cifar100_train.lign\")\n",
    "\n",
    "validate = utl.io.cifar_to_lign(\"data/datasets/CIFAR100\", train=False, transforms = trans)\n",
    "validate.save(\"data/datasets/cifar100_test.lign\")"
   ]
  },
  {
   "cell_type": "markdown",
   "metadata": {},
   "source": [
    "### Load Dataset"
   ]
  },
  {
   "cell_type": "code",
   "execution_count": 2,
   "metadata": {},
   "outputs": [],
   "source": [
    "dataset = lg.graph.GraphDataset(\"data/datasets/cifar100_train.lign\")\n",
    "validate = lg.graph.GraphDataset(\"data/datasets/cifar100_test.lign\")"
   ]
  },
  {
   "cell_type": "markdown",
   "metadata": {},
   "source": [
    "### Cuda GPUs"
   ]
  },
  {
   "cell_type": "code",
   "execution_count": 3,
   "metadata": {},
   "outputs": [],
   "source": [
    "device = th.device(\"cuda\" if th.cuda.is_available() else \"cpu\")"
   ]
  },
  {
   "cell_type": "markdown",
   "metadata": {},
   "source": [
    "### Functions and NNs"
   ]
  },
  {
   "cell_type": "code",
   "execution_count": 4,
   "metadata": {},
   "outputs": [],
   "source": [
    "def sum_neighs_data(neighs):\n",
    "    out = neighs[0]\n",
    "    for neigh in neighs[1:]:\n",
    "        out = out + neighs\n",
    "    return out"
   ]
  },
  {
   "cell_type": "markdown",
   "metadata": {},
   "source": [
    "### Hyperparameters\n",
    "* LAMBDA: regulates how much the model relies on difference between the nodes vs the features that lead to their label when calculating pairwise loss\n",
    "* DIST_VEC_SIZE: size of vector representing the mapping of the nodes by the model\n",
    "* INIT_NUM_LAB: number of labels used to training the model initially in the supervised method to learn pairwise mapping\n",
    "* LABELS: list of all the labels that model comes across. Labels can be appended at any time. The order of labels is initially randomized\n",
    "* SUBGRAPH_SIZE: represent the number of nodes processed at once. The models don't have batches. This is the closest thing to it\n",
    "* AMP_ENABLE: to enable mixed precission training\n",
    "* LR: Learning rate"
   ]
  },
  {
   "cell_type": "code",
   "execution_count": 5,
   "metadata": {},
   "outputs": [],
   "source": [
    "LAMBDA = 0.005\n",
    "DIST_VEC_SIZE = 20 # 3 was picked so the graph can be drawn in a 3d grid\n",
    "INIT_NUM_LAB = 20\n",
    "LABELS = np.arange(100)\n",
    "SUBGRPAH_SIZE = 200\n",
    "AMP_ENABLE = True\n",
    "EPOCHS = 500\n",
    "LR = 1e-3\n",
    "\n",
    "np.random.shuffle(LABELS)"
   ]
  },
  {
   "cell_type": "markdown",
   "metadata": {},
   "source": [
    "---\n",
    "## Models\n",
    "### LIGN\n",
    "\n",
    "[L]ifelong Learning [I]nduced by [G]raph [N]eural Networks Model (LIGN)"
   ]
  },
  {
   "cell_type": "code",
   "execution_count": 6,
   "metadata": {},
   "outputs": [],
   "source": [
    "class LIGN_CIFAR(nn.Module):\n",
    "    def __init__(self, out_feats):\n",
    "        super(LIGN_CIFAR, self).__init__()\n",
    "        self.gcn1 = md.layers.GCN(nn.Conv2d(3, 6, 5))\n",
    "        self.gcn2 = md.layers.GCN(nn.Conv2d(6, 16, 5))\n",
    "        self.gcn3 = md.layers.GCN(nn.Linear(16 * 5 * 5, 150))\n",
    "        self.gcn4 = md.layers.GCN(nn.Linear(150, 84))\n",
    "        self.gcn5 = md.layers.GCN(nn.Linear(84, out_feats))\n",
    "        self.pool = md.layers.GCN(nn.MaxPool2d(2, 2))\n",
    "\n",
    "    def forward(self, g, features):\n",
    "        x = self.pool(g, F.relu(self.gcn1(g, features)))\n",
    "        x = self.pool(g, F.relu(self.gcn2(g, x)))\n",
    "        x = x.view(-1, 16 * 5 * 5)\n",
    "        x = F.relu(self.gcn3(g, x))\n",
    "        x = F.relu(self.gcn4(g, x))\n",
    "        \n",
    "        return th.tanh(self.gcn5(g, x))\n",
    "\n",
    "model = LIGN_CIFAR(DIST_VEC_SIZE).to(device)"
   ]
  },
  {
   "cell_type": "markdown",
   "metadata": {},
   "source": [
    "### R-LIGN\n",
    "[R]ecurrent [L]ifelong Learning [I]nduced by [G]raph [N]eural Networks Model (R-LIGN)"
   ]
  },
  {
   "cell_type": "code",
   "execution_count": null,
   "metadata": {},
   "outputs": [],
   "source": [
    "#dataset.set_data(\"h\", )\n",
    "#dataset.set_data(\"c\", )\n",
    "####\n",
    "# model = R_LIGN(DIST_VEC_SIZE)"
   ]
  },
  {
   "cell_type": "markdown",
   "metadata": {},
   "source": [
    "----\n",
    "## Training\n",
    "### Parameters"
   ]
  },
  {
   "cell_type": "code",
   "execution_count": 7,
   "metadata": {},
   "outputs": [],
   "source": [
    "#opt\n",
    "accuracy = []\n",
    "log = []\n",
    "num_of_labels = len(LABELS)\n",
    "opt = th.optim.Adam(model.parameters(), lr=LR)\n",
    "scaler = GradScaler() if AMP_ENABLE else None\n",
    "\n",
    "retrain_superv = lambda x: x%15 == 0\n",
    "retrain_semi = lambda x: x%15 == 5"
   ]
  },
  {
   "cell_type": "markdown",
   "metadata": {},
   "source": [
    "### Load State"
   ]
  },
  {
   "cell_type": "code",
   "execution_count": null,
   "metadata": {},
   "outputs": [],
   "source": [
    "checkpoint = torch.load('data/models/LIGN_training_cool_time.pt')\n",
    "\n",
    "model.load_state_dict(checkpoint['model'])\n",
    "optimizer.load_state_dict(checkpoint['optimizer'])\n",
    "\n",
    "if AMP_ENABLE:\n",
    "    scaler.load_state_dict(checkpoint['scaler'])"
   ]
  },
  {
   "cell_type": "markdown",
   "metadata": {},
   "source": [
    "### Train Model"
   ]
  },
  {
   "cell_type": "code",
   "execution_count": 12,
   "metadata": {
    "tags": []
   },
   "outputs": [
    {
     "output_type": "stream",
     "name": "stdout",
     "text": "Label: 20/100\t|\tAccuracy: 12.5\t|\tSemisurpervised Retraining: True\t|\tSurpervised Retraining: False\nLabel: 21/100\t|\tAccuracy: 11.81\t|\tSemisurpervised Retraining: False\t|\tSurpervised Retraining: False\nLabel: 22/100\t|\tAccuracy: 11.27\t|\tSemisurpervised Retraining: False\t|\tSurpervised Retraining: False\nLabel: 23/100\t|\tAccuracy: 10.78\t|\tSemisurpervised Retraining: False\t|\tSurpervised Retraining: False\nLabel: 24/100\t|\tAccuracy: 10.54\t|\tSemisurpervised Retraining: False\t|\tSurpervised Retraining: False\nLabel: 25/100\t|\tAccuracy: 9.36\t|\tSemisurpervised Retraining: False\t|\tSurpervised Retraining: False\nLabel: 26/100\t|\tAccuracy: 7.73\t|\tSemisurpervised Retraining: False\t|\tSurpervised Retraining: False\nLabel: 27/100\t|\tAccuracy: 7.48\t|\tSemisurpervised Retraining: False\t|\tSurpervised Retraining: False\nLabel: 28/100\t|\tAccuracy: 7.21\t|\tSemisurpervised Retraining: False\t|\tSurpervised Retraining: False\nLabel: 29/100\t|\tAccuracy: 7.1\t|\tSemisurpervised Retraining: False\t|\tSurpervised Retraining: False\nLabel: 30/100\t|\tAccuracy: 8.1\t|\tSemisurpervised Retraining: False\t|\tSurpervised Retraining: True\nLabel: 31/100\t|\tAccuracy: 7.65\t|\tSemisurpervised Retraining: False\t|\tSurpervised Retraining: False\nLabel: 32/100\t|\tAccuracy: 7.34\t|\tSemisurpervised Retraining: False\t|\tSurpervised Retraining: False\nLabel: 33/100\t|\tAccuracy: 7.06\t|\tSemisurpervised Retraining: False\t|\tSurpervised Retraining: False\nLabel: 34/100\t|\tAccuracy: 6.79\t|\tSemisurpervised Retraining: False\t|\tSurpervised Retraining: False\nLabel: 35/100\t|\tAccuracy: 5.46\t|\tSemisurpervised Retraining: True\t|\tSurpervised Retraining: False\nLabel: 36/100\t|\tAccuracy: 5.03\t|\tSemisurpervised Retraining: False\t|\tSurpervised Retraining: False\nLabel: 37/100\t|\tAccuracy: 5.24\t|\tSemisurpervised Retraining: False\t|\tSurpervised Retraining: False\nLabel: 38/100\t|\tAccuracy: 4.89\t|\tSemisurpervised Retraining: False\t|\tSurpervised Retraining: False\nLabel: 39/100\t|\tAccuracy: 4.85\t|\tSemisurpervised Retraining: False\t|\tSurpervised Retraining: False\nLabel: 40/100\t|\tAccuracy: 4.55\t|\tSemisurpervised Retraining: False\t|\tSurpervised Retraining: False\nLabel: 41/100\t|\tAccuracy: 4.59\t|\tSemisurpervised Retraining: False\t|\tSurpervised Retraining: False\nLabel: 42/100\t|\tAccuracy: 4.29\t|\tSemisurpervised Retraining: False\t|\tSurpervised Retraining: False\nLabel: 43/100\t|\tAccuracy: 4.44\t|\tSemisurpervised Retraining: False\t|\tSurpervised Retraining: False\nLabel: 44/100\t|\tAccuracy: 4.05\t|\tSemisurpervised Retraining: False\t|\tSurpervised Retraining: False\nLabel: 45/100\t|\tAccuracy: 3.53\t|\tSemisurpervised Retraining: False\t|\tSurpervised Retraining: True\nLabel: 46/100\t|\tAccuracy: 3.52\t|\tSemisurpervised Retraining: False\t|\tSurpervised Retraining: False\nLabel: 47/100\t|\tAccuracy: 3.87\t|\tSemisurpervised Retraining: False\t|\tSurpervised Retraining: False\nLabel: 48/100\t|\tAccuracy: 3.92\t|\tSemisurpervised Retraining: False\t|\tSurpervised Retraining: False\nLabel: 49/100\t|\tAccuracy: 3.88\t|\tSemisurpervised Retraining: False\t|\tSurpervised Retraining: False\nLabel: 50/100\t|\tAccuracy: 3.8\t|\tSemisurpervised Retraining: True\t|\tSurpervised Retraining: False\nLabel: 51/100\t|\tAccuracy: 4.22\t|\tSemisurpervised Retraining: False\t|\tSurpervised Retraining: False\nLabel: 52/100\t|\tAccuracy: 4.21\t|\tSemisurpervised Retraining: False\t|\tSurpervised Retraining: False\nLabel: 53/100\t|\tAccuracy: 4.36\t|\tSemisurpervised Retraining: False\t|\tSurpervised Retraining: False\nLabel: 54/100\t|\tAccuracy: 4.19\t|\tSemisurpervised Retraining: False\t|\tSurpervised Retraining: False\nLabel: 55/100\t|\tAccuracy: 4.13\t|\tSemisurpervised Retraining: False\t|\tSurpervised Retraining: False\nLabel: 56/100\t|\tAccuracy: 3.89\t|\tSemisurpervised Retraining: False\t|\tSurpervised Retraining: False\nLabel: 57/100\t|\tAccuracy: 3.91\t|\tSemisurpervised Retraining: False\t|\tSurpervised Retraining: False\nLabel: 58/100\t|\tAccuracy: 3.78\t|\tSemisurpervised Retraining: False\t|\tSurpervised Retraining: False\nLabel: 59/100\t|\tAccuracy: 3.73\t|\tSemisurpervised Retraining: False\t|\tSurpervised Retraining: False\nLabel: 60/100\t|\tAccuracy: 2.88\t|\tSemisurpervised Retraining: False\t|\tSurpervised Retraining: True\nLabel: 61/100\t|\tAccuracy: 2.85\t|\tSemisurpervised Retraining: False\t|\tSurpervised Retraining: False\nLabel: 62/100\t|\tAccuracy: 2.77\t|\tSemisurpervised Retraining: False\t|\tSurpervised Retraining: False\nLabel: 63/100\t|\tAccuracy: 2.65\t|\tSemisurpervised Retraining: False\t|\tSurpervised Retraining: False\nLabel: 64/100\t|\tAccuracy: 2.73\t|\tSemisurpervised Retraining: False\t|\tSurpervised Retraining: False\nLabel: 65/100\t|\tAccuracy: 1.89\t|\tSemisurpervised Retraining: True\t|\tSurpervised Retraining: False\nLabel: 66/100\t|\tAccuracy: 1.79\t|\tSemisurpervised Retraining: False\t|\tSurpervised Retraining: False\nLabel: 67/100\t|\tAccuracy: 1.67\t|\tSemisurpervised Retraining: False\t|\tSurpervised Retraining: False\nLabel: 68/100\t|\tAccuracy: 1.56\t|\tSemisurpervised Retraining: False\t|\tSurpervised Retraining: False\nLabel: 69/100\t|\tAccuracy: 1.72\t|\tSemisurpervised Retraining: False\t|\tSurpervised Retraining: False\nLabel: 70/100\t|\tAccuracy: 1.74\t|\tSemisurpervised Retraining: False\t|\tSurpervised Retraining: False\nLabel: 71/100\t|\tAccuracy: 1.56\t|\tSemisurpervised Retraining: False\t|\tSurpervised Retraining: False\nLabel: 72/100\t|\tAccuracy: 1.47\t|\tSemisurpervised Retraining: False\t|\tSurpervised Retraining: False\nLabel: 73/100\t|\tAccuracy: 1.71\t|\tSemisurpervised Retraining: False\t|\tSurpervised Retraining: False\nLabel: 74/100\t|\tAccuracy: 1.54\t|\tSemisurpervised Retraining: False\t|\tSurpervised Retraining: False\nLabel: 75/100\t|\tAccuracy: 1.75\t|\tSemisurpervised Retraining: False\t|\tSurpervised Retraining: True\nLabel: 76/100\t|\tAccuracy: 1.92\t|\tSemisurpervised Retraining: False\t|\tSurpervised Retraining: False\nLabel: 77/100\t|\tAccuracy: 1.71\t|\tSemisurpervised Retraining: False\t|\tSurpervised Retraining: False\nLabel: 78/100\t|\tAccuracy: 1.51\t|\tSemisurpervised Retraining: False\t|\tSurpervised Retraining: False\nLabel: 79/100\t|\tAccuracy: 1.52\t|\tSemisurpervised Retraining: False\t|\tSurpervised Retraining: False\nLabel: 80/100\t|\tAccuracy: 1.4\t|\tSemisurpervised Retraining: True\t|\tSurpervised Retraining: False\nLabel: 81/100\t|\tAccuracy: 1.49\t|\tSemisurpervised Retraining: False\t|\tSurpervised Retraining: False\nLabel: 82/100\t|\tAccuracy: 1.35\t|\tSemisurpervised Retraining: False\t|\tSurpervised Retraining: False\nLabel: 83/100\t|\tAccuracy: 1.4\t|\tSemisurpervised Retraining: False\t|\tSurpervised Retraining: False\nLabel: 84/100\t|\tAccuracy: 1.32\t|\tSemisurpervised Retraining: False\t|\tSurpervised Retraining: False\nLabel: 85/100\t|\tAccuracy: 1.28\t|\tSemisurpervised Retraining: False\t|\tSurpervised Retraining: False\nLabel: 86/100\t|\tAccuracy: 1.33\t|\tSemisurpervised Retraining: False\t|\tSurpervised Retraining: False\nLabel: 87/100\t|\tAccuracy: 1.36\t|\tSemisurpervised Retraining: False\t|\tSurpervised Retraining: False\nLabel: 88/100\t|\tAccuracy: 1.25\t|\tSemisurpervised Retraining: False\t|\tSurpervised Retraining: False\nLabel: 89/100\t|\tAccuracy: 1.26\t|\tSemisurpervised Retraining: False\t|\tSurpervised Retraining: False\nLabel: 90/100\t|\tAccuracy: 1.39\t|\tSemisurpervised Retraining: False\t|\tSurpervised Retraining: True\nLabel: 91/100\t|\tAccuracy: 1.32\t|\tSemisurpervised Retraining: False\t|\tSurpervised Retraining: False\nLabel: 92/100\t|\tAccuracy: 1.36\t|\tSemisurpervised Retraining: False\t|\tSurpervised Retraining: False\nLabel: 93/100\t|\tAccuracy: 1.32\t|\tSemisurpervised Retraining: False\t|\tSurpervised Retraining: False\nLabel: 94/100\t|\tAccuracy: 1.44\t|\tSemisurpervised Retraining: False\t|\tSurpervised Retraining: False\nLabel: 95/100\t|\tAccuracy: 1.23\t|\tSemisurpervised Retraining: True\t|\tSurpervised Retraining: False\nLabel: 96/100\t|\tAccuracy: 1.16\t|\tSemisurpervised Retraining: False\t|\tSurpervised Retraining: False\nLabel: 97/100\t|\tAccuracy: 1.05\t|\tSemisurpervised Retraining: False\t|\tSurpervised Retraining: False\nLabel: 98/100\t|\tAccuracy: 1.05\t|\tSemisurpervised Retraining: False\t|\tSurpervised Retraining: False\nLabel: 99/100\t|\tAccuracy: 1.04\t|\tSemisurpervised Retraining: False\t|\tSurpervised Retraining: False\nLabel: 100/100\t|\tAccuracy: 1.11\t|\tSemisurpervised Retraining: False\t|\tSurpervised Retraining: False\n"
    }
   ],
   "source": [
    "lg.train.superv(model, opt, dataset, \"x\", \"labels\", DIST_VEC_SIZE, LABELS[:INIT_NUM_LAB], LAMBDA, (device, scaler), epochs=EPOCHS, subgraph_size=SUBGRPAH_SIZE)\n",
    "\n",
    "for num_labels in range(INIT_NUM_LAB, num_of_labels + 1):\n",
    "\n",
    "    if retrain_semi(num_labels):\n",
    "        lg.train.semi_superv(model, opt, dataset, \"x\", \"labels\", DIST_VEC_SIZE, LABELS[:num_labels], LAMBDA, (device, scaler), subgraph_size=SUBGRPAH_SIZE, epochs=EPOCHS, cluster=(utl.clustering.NN(), 5))\n",
    "    \n",
    "    if retrain_superv(num_labels):\n",
    "        lg.train.superv(model, opt, dataset, \"x\", \"labels\", DIST_VEC_SIZE, LABELS[:num_labels], LAMBDA, (device, scaler), epochs=EPOCHS, subgraph_size=SUBGRPAH_SIZE)\n",
    "    \n",
    "    acc = lg.test.accuracy(model, validate, dataset, \"x\", \"labels\", LABELS[:num_labels], cluster=(utl.clustering.NN(), 5), device=device)\n",
    "    accuracy.append(acc)\n",
    "    log.append(\"Label: {}/{}\\t|\\tAccuracy: {}\\t|\\tSemisurpervised Retraining: {}\\t|\\tSurpervised Retraining: {}\".format(num_labels, num_of_labels, round(acc, 2), retrain_semi(num_labels), retrain_superv(num_labels)))\n",
    "    print(log[-1])\n"
   ]
  },
  {
   "cell_type": "markdown",
   "metadata": {},
   "source": [
    "### Save State"
   ]
  },
  {
   "cell_type": "code",
   "execution_count": 14,
   "metadata": {},
   "outputs": [],
   "source": [
    "time = str(tm_now()).replace(\":\", \"-\").replace(\".\", \"\").replace(\" \", \"_\")\n",
    "\n",
    "## Save metrics\n",
    "metrics = {\n",
    "    \"accuracy\": accuracy,\n",
    "    \"log\": log\n",
    "}\n",
    "utl.io.json(metrics, \"data/metrics/LIGN_training_\"+time+\".json\")\n",
    "\n",
    "## Save model checkpoint\n",
    "check = {\n",
    "    \"model\": model.state_dict(),\n",
    "    \"optimizer\": opt.state_dict()\n",
    "}\n",
    "if AMP_ENABLE:\n",
    "    check[\"scaler\"] = scaler.state_dict()\n",
    "\n",
    "th.save(check, \"data/models/LIGN_training_\"+time+\".pt\")"
   ]
  },
  {
   "cell_type": "markdown",
   "metadata": {},
   "source": [
    "---\n",
    "## View\n",
    "### Performance"
   ]
  },
  {
   "cell_type": "code",
   "execution_count": null,
   "metadata": {},
   "outputs": [],
   "source": []
  },
  {
   "cell_type": "markdown",
   "metadata": {},
   "source": [
    "### Graph"
   ]
  },
  {
   "cell_type": "code",
   "execution_count": null,
   "metadata": {},
   "outputs": [],
   "source": []
  }
 ],
 "metadata": {
  "kernelspec": {
   "display_name": "Python 3",
   "language": "python",
   "name": "python3"
  },
  "language_info": {
   "codemirror_mode": {
    "name": "ipython",
    "version": 3
   },
   "file_extension": ".py",
   "mimetype": "text/x-python",
   "name": "python",
   "nbconvert_exporter": "python",
   "pygments_lexer": "ipython3",
   "version": "3.8.3-final"
  }
 },
 "nbformat": 4,
 "nbformat_minor": 4
}