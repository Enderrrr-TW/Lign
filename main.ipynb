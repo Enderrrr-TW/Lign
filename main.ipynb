{
 "cells": [
  {
   "cell_type": "markdown",
   "metadata": {},
   "source": [
    "# LIGN\n",
    "Graph Induced Lifelong Learning for Spatial-Temporal Data\n",
    "\n",
    "----\n",
    "\n",
    "## Imports"
   ]
  },
  {
   "cell_type": "code",
   "execution_count": 1,
   "metadata": {
    "tags": []
   },
   "outputs": [],
   "source": [
    "import lign as lg\n",
    "import lign.models as md\n",
    "import lign.utils as utl\n",
    "\n",
    "import torch as th\n",
    "import torchvision as tv\n",
    "import torch.nn as nn\n",
    "import torch.nn.functional as F\n",
    "\n",
    "import numpy as np\n",
    "import datetime\n",
    "tm_now = datetime.datetime.now\n",
    "from torch.cuda.amp import GradScaler"
   ]
  },
  {
   "cell_type": "markdown",
   "metadata": {},
   "source": [
    "----\n",
    "\n",
    "## Preprocessing \n",
    "\n",
    "### Create Dataset"
   ]
  },
  {
   "cell_type": "code",
   "execution_count": null,
   "metadata": {
    "tags": []
   },
   "outputs": [],
   "source": [
    "trans = tv.transforms.Compose([\n",
    "    tv.transforms.ToTensor(),\n",
    "    tv.transforms.Normalize(mean=[0.5, 0.5, 0.5], std=[0.5, 0.5, 0.5])\n",
    "])\n",
    "\n",
    "dataset = utl.io.cifar_to_lign(\"data/datasets/CIFAR100\", transforms = trans)\n",
    "dataset.save(\"data/datasets/cifar100_train.lign\")\n",
    "\n",
    "validate = utl.io.cifar_to_lign(\"data/datasets/CIFAR100\", train=False, transforms = trans)\n",
    "validate.save(\"data/datasets/cifar100_test.lign\")"
   ]
  },
  {
   "cell_type": "markdown",
   "metadata": {},
   "source": [
    "### Load Dataset"
   ]
  },
  {
   "cell_type": "code",
   "execution_count": 2,
   "metadata": {},
   "outputs": [],
   "source": [
    "dataset = lg.graph.GraphDataset(\"data/datasets/cifar100_train.lign\")\n",
    "validate = lg.graph.GraphDataset(\"data/datasets/cifar100_test.lign\")"
   ]
  },
  {
   "cell_type": "markdown",
   "metadata": {},
   "source": [
    "### Cuda GPUs"
   ]
  },
  {
   "cell_type": "code",
   "execution_count": 3,
   "metadata": {},
   "outputs": [],
   "source": [
    "device = th.device(\"cuda\" if th.cuda.is_available() else \"cpu\")"
   ]
  },
  {
   "cell_type": "markdown",
   "metadata": {},
   "source": [
    "### Functions and NNs"
   ]
  },
  {
   "cell_type": "code",
   "execution_count": 4,
   "metadata": {},
   "outputs": [],
   "source": [
    "def sum_neighs_data(neighs):\n",
    "    out = neighs[0]\n",
    "    for neigh in neighs[1:]:\n",
    "        out = out + neighs\n",
    "    return out"
   ]
  },
  {
   "cell_type": "markdown",
   "metadata": {},
   "source": [
    "### Hyperparameters\n",
    "* LAMBDA: regulates how much the model relies on difference between the nodes vs the features that lead to their label when calculating pairwise loss\n",
    "* DIST_VEC_SIZE: size of vector representing the mapping of the nodes by the model\n",
    "* INIT_NUM_LAB: number of labels used to training the model initially in the supervised method to learn pairwise mapping\n",
    "* LABELS: list of all the labels that model comes across. Labels can be appended at any time. The order of labels is initially randomized\n",
    "* SUBGRAPH_SIZE: represent the number of nodes processed at once. The models don't have batches. This is the closest thing to it\n",
    "* AMP_ENABLE: to enable mixed precission training\n",
    "* LR: Learning rate\n"
   ]
  },
  {
   "cell_type": "code",
   "execution_count": 5,
   "metadata": {},
   "outputs": [],
   "source": [
    "LAMBDA = 0.0001\n",
    "DIST_VEC_SIZE = 3 # 3 was picked so the graph can be drawn in a 3d grid\n",
    "INIT_NUM_LAB = 10\n",
    "LABELS = np.arange(10)\n",
    "SUBGRPAH_SIZE = 200\n",
    "AMP_ENABLE = True\n",
    "LR = 1e-3\n",
    "\n",
    "np.random.shuffle(LABELS)"
   ]
  },
  {
   "cell_type": "markdown",
   "metadata": {},
   "source": [
    "---\n",
    "## Models\n",
    "### LIGN\n",
    "\n",
    "[L]ifelong Learning [I]nduced by [G]raph [N]eural Networks Model (LIGN)"
   ]
  },
  {
   "cell_type": "code",
   "execution_count": 6,
   "metadata": {},
   "outputs": [],
   "source": [
    "class LIGN_CIFAR(nn.Module):\n",
    "    def __init__(self, out_feats):\n",
    "        super(LIGN_CIFAR, self).__init__()\n",
    "        self.gcn1 = md.layers.GCN(nn.Conv2d(3, 6, 5))\n",
    "        self.gcn2 = md.layers.GCN(nn.Conv2d(6, 16, 5))\n",
    "        self.gcn3 = md.layers.GCN(nn.Linear(16 * 5 * 5, 150))\n",
    "        self.gcn4 = md.layers.GCN(nn.Linear(150, 84))\n",
    "        self.gcn5 = md.layers.GCN(nn.Linear(84, out_feats))\n",
    "        self.pool = md.layers.GCN(nn.MaxPool2d(2, 2))\n",
    "\n",
    "    def forward(self, g, features):\n",
    "        x = self.pool(F.relu(self.gcn1(g, features)))\n",
    "        x = self.pool(F.relu(self.gcn2(g, x)))\n",
    "        x = x.view(-1, 16 * 5 * 5)\n",
    "        x = F.relu(self.gcn3(g, x))\n",
    "        x = F.relu(self.gcn4(g, x))\n",
    "        \n",
    "        return th.tanh(self.gcn5(g, x))\n",
    "\n",
    "model = LIGN_CIFAR(DIST_VEC_SIZE).to(device)"
   ]
  },
  {
   "cell_type": "markdown",
   "metadata": {},
   "source": [
    "### R-LIGN\n",
    "[R]ecurrent [L]ifelong Learning [I]nduced by [G]raph [N]eural Networks Model (R-LIGN)"
   ]
  },
  {
   "cell_type": "code",
   "execution_count": null,
   "metadata": {},
   "outputs": [],
   "source": [
    "#dataset.set_data(\"h\", )\n",
    "#dataset.set_data(\"c\", )\n",
    "####\n",
    "# model = R_LIGN(DIST_VEC_SIZE)"
   ]
  },
  {
   "cell_type": "markdown",
   "metadata": {},
   "source": [
    "----\n",
    "## Training\n",
    "### Parameters"
   ]
  },
  {
   "cell_type": "code",
   "execution_count": 7,
   "metadata": {},
   "outputs": [],
   "source": [
    "#opt\n",
    "accuracy = []\n",
    "log = []\n",
    "num_of_labels = len(LABELS)\n",
    "opt = th.optim.Adam(model.parameters(), lr=LR)\n",
    "scaler = GradScaler() if AMP_ENABLE else None"
   ]
  },
  {
   "cell_type": "markdown",
   "metadata": {},
   "source": [
    "### Load Pre-Trained Model"
   ]
  },
  {
   "cell_type": "code",
   "execution_count": null,
   "metadata": {},
   "outputs": [],
   "source": [
    "checkpoint = torch.load('data/models/LIGN_training_cool_time.pt')\n",
    "\n",
    "model.load_state_dict(checkpoint['model'])\n",
    "optimizer.load_state_dict(checkpoint['optimizer'])\n",
    "\n",
    "if AMP_ENABLE:\n",
    "    scaler.load_state_dict(checkpoint['scaler'])"
   ]
  },
  {
   "cell_type": "markdown",
   "metadata": {},
   "source": [
    "### Train Model"
   ]
  },
  {
   "cell_type": "code",
   "execution_count": 8,
   "metadata": {},
   "outputs": [
    {
     "name": "stdout",
     "output_type": "stream",
     "text": [
      "tensor([[[[[ 0.2784,  0.4353,  0.6235,  ...,  0.6941,  0.7176,  0.7490],\n",
      "           [ 0.1373,  0.2549,  0.3882,  ...,  0.5922,  0.5686,  0.7490],\n",
      "           [ 0.1686,  0.2235,  0.3020,  ...,  0.5843,  0.4588,  0.6706],\n",
      "           ...,\n",
      "           [ 0.5608,  0.5373,  0.4510,  ...,  0.2392,  0.1765,  0.2863],\n",
      "           [ 0.2000,  0.4118,  0.5216,  ...,  0.2078,  0.2549,  0.3725],\n",
      "           [-0.0196,  0.0745,  0.2235,  ...,  0.2235,  0.3333,  0.5451]],\n",
      "\n",
      "          [[-0.0588,  0.0824,  0.1843,  ...,  0.3882,  0.5137,  0.6314],\n",
      "           [-0.1686, -0.0667,  0.0039,  ...,  0.2706,  0.2941,  0.5765],\n",
      "           [-0.1059, -0.0431, -0.0118,  ...,  0.2392,  0.1137,  0.4353],\n",
      "           ...,\n",
      "           [ 0.2392,  0.2784,  0.2314,  ...,  0.0667, -0.0039,  0.0824],\n",
      "           [-0.1451,  0.1294,  0.2784,  ...,  0.0039,  0.0667,  0.1843],\n",
      "           [-0.3725, -0.2314, -0.0431,  ..., -0.0196,  0.1373,  0.3725]],\n",
      "\n",
      "          [[-0.1451, -0.0902, -0.1216,  ...,  0.0353,  0.1294,  0.3961],\n",
      "           [-0.1843, -0.1294, -0.1608,  ..., -0.0510, -0.0667,  0.3255],\n",
      "           [-0.0902, -0.0275, -0.0588,  ..., -0.0353, -0.2157,  0.1529],\n",
      "           ...,\n",
      "           [ 0.1922,  0.2392,  0.2000,  ...,  0.0196, -0.0039,  0.0902],\n",
      "           [-0.1843,  0.0980,  0.2549,  ..., -0.0118,  0.0431,  0.1686],\n",
      "           [-0.4118, -0.2471, -0.0588,  ..., -0.0039,  0.0902,  0.3255]]]],\n",
      "\n",
      "\n",
      "\n",
      "        [[[[-0.3804, -0.3020, -0.1922,  ..., -0.9059, -0.9137, -0.9137],\n",
      "           [-0.3176, -0.3255,  0.0118,  ..., -0.9373, -0.9373, -0.9373],\n",
      "           [-0.0667, -0.2863,  0.3333,  ..., -0.9373, -0.9373, -0.9451],\n",
      "           ...,\n",
      "           [-0.9373, -0.9451, -0.9373,  ..., -0.9216, -0.9059, -0.8824],\n",
      "           [-0.9451, -0.9529, -0.9451,  ..., -0.9216, -0.8980, -0.8588],\n",
      "           [-0.9529, -0.9529, -0.9373,  ..., -0.9216, -0.8902, -0.8588]],\n",
      "\n",
      "          [[-0.1686,  0.0510,  0.1529,  ..., -0.8510, -0.8588, -0.8431],\n",
      "           [-0.0588,  0.0510,  0.3412,  ..., -0.8980, -0.8980, -0.8902],\n",
      "           [ 0.2941,  0.0118,  0.4431,  ..., -0.9137, -0.9137, -0.9137],\n",
      "           ...,\n",
      "           [-0.9373, -0.9451, -0.9294,  ..., -0.8745, -0.8353, -0.7961],\n",
      "           [-0.9451, -0.9529, -0.9373,  ..., -0.8667, -0.8196, -0.7725],\n",
      "           [-0.9451, -0.9451, -0.9216,  ..., -0.8667, -0.8275, -0.7725]],\n",
      "\n",
      "          [[-0.6941, -0.6471, -0.4353,  ..., -0.9686, -0.9686, -0.9843],\n",
      "           [-0.6784, -0.7333, -0.4510,  ..., -0.9608, -0.9529, -0.9686],\n",
      "           [-0.6471, -0.6784, -0.2157,  ..., -0.9686, -0.9686, -0.9686],\n",
      "           ...,\n",
      "           [-0.9608, -0.9608, -0.9686,  ..., -0.9451, -0.9529, -0.9608],\n",
      "           [-0.9686, -0.9686, -0.9686,  ..., -0.9451, -0.9529, -0.9373],\n",
      "           [-0.9765, -0.9686, -0.9608,  ..., -0.9529, -0.9529, -0.9451]]]],\n",
      "\n",
      "\n",
      "\n",
      "        [[[[ 0.1686,  0.0980,  0.2235,  ...,  0.1137, -0.2706, -0.4745],\n",
      "           [ 0.3333,  0.2941,  0.3176,  ...,  0.2000, -0.2000, -0.4824],\n",
      "           [ 0.3098,  0.2784,  0.2863,  ...,  0.2471, -0.2549, -0.6471],\n",
      "           ...,\n",
      "           [-0.8667, -0.8353, -0.7098,  ..., -0.1686, -0.1294, -0.1451],\n",
      "           [-0.8902, -0.8588, -0.8588,  ..., -0.1686, -0.1373, -0.1608],\n",
      "           [-0.9373, -0.9059, -0.8902,  ..., -0.1765, -0.1529, -0.1451]],\n",
      "\n",
      "          [[-0.5922, -0.6627, -0.6784,  ..., -0.5765, -0.2078, -0.1843],\n",
      "           [-0.6078, -0.6078, -0.6392,  ..., -0.5843, -0.3490, -0.3176],\n",
      "           [-0.6157, -0.6078, -0.6078,  ..., -0.6314, -0.6235, -0.6000],\n",
      "           ...,\n",
      "           [-0.9686, -0.8667, -0.7961,  ...,  0.1294,  0.1686,  0.1529],\n",
      "           [-0.9686, -0.9294, -0.8510,  ...,  0.1216,  0.1608,  0.1373],\n",
      "           [-0.9451, -0.9529, -0.9137,  ...,  0.1294,  0.1529,  0.1608]],\n",
      "\n",
      "          [[-0.4667, -0.5373, -0.5059,  ..., -0.6941, -0.8118, -0.8902],\n",
      "           [-0.4431, -0.4588, -0.4745,  ..., -0.6000, -0.7412, -0.7961],\n",
      "           [-0.4902, -0.4980, -0.4902,  ..., -0.4824, -0.7255, -0.7725],\n",
      "           ...,\n",
      "           [-0.9608, -0.9137, -0.8588,  ..., -0.2549, -0.2157, -0.2314],\n",
      "           [-0.9608, -0.9451, -0.9059,  ..., -0.2784, -0.2314, -0.2627],\n",
      "           [-0.9608, -0.9529, -0.9294,  ..., -0.2863, -0.2627, -0.2549]]]],\n",
      "\n",
      "\n",
      "\n",
      "        ...,\n",
      "\n",
      "\n",
      "\n",
      "        [[[[-0.3255, -0.3020, -0.3725,  ..., -0.8118, -0.8824, -0.9529],\n",
      "           [-0.3882, -0.3804, -0.4039,  ..., -0.7725, -0.8275, -0.8980],\n",
      "           [-0.3569, -0.3647, -0.3882,  ..., -0.7333, -0.7647, -0.8510],\n",
      "           ...,\n",
      "           [-0.6549, -0.6471, -0.8902,  ..., -0.6314, -0.7647, -0.8039],\n",
      "           [-0.6314, -0.8902, -0.8980,  ..., -0.2157, -0.4667, -0.7647],\n",
      "           [-0.8980, -0.9451, -0.6941,  ..., -0.1294, -0.1137, -0.3412]],\n",
      "\n",
      "          [[-0.3098, -0.2706, -0.3333,  ..., -0.7804, -0.8667, -0.9451],\n",
      "           [-0.3725, -0.3490, -0.3569,  ..., -0.7255, -0.7961, -0.8824],\n",
      "           [-0.3569, -0.3176, -0.3255,  ..., -0.6784, -0.7255, -0.8275],\n",
      "           ...,\n",
      "           [-0.7412, -0.7333, -0.9373,  ..., -0.6863, -0.7412, -0.7412],\n",
      "           [-0.7098, -0.9373, -0.9529,  ..., -0.5059, -0.6235, -0.7725],\n",
      "           [-0.9529, -0.9843, -0.8196,  ..., -0.4588, -0.4667, -0.5608]],\n",
      "\n",
      "          [[-0.7569, -0.7176, -0.7490,  ..., -0.9686, -0.9843, -0.9922],\n",
      "           [-0.8431, -0.8353, -0.8588,  ..., -0.9608, -0.9765, -0.9843],\n",
      "           [-0.7961, -0.8510, -0.8667,  ..., -0.9451, -0.9608, -0.9686],\n",
      "           ...,\n",
      "           [-0.7647, -0.7569, -0.9529,  ..., -0.6706, -0.8588, -0.9373],\n",
      "           [-0.7255, -0.9451, -0.9451,  ..., -0.1765, -0.4902, -0.8431],\n",
      "           [-0.9529, -0.9765, -0.7255,  ..., -0.1059, -0.0667, -0.3333]]]],\n",
      "\n",
      "\n",
      "\n",
      "        [[[[-0.2000, -0.3020,  0.2784,  ..., -0.7412, -0.7804, -0.5216],\n",
      "           [-0.0980, -0.0588,  0.4902,  ..., -0.7647, -0.7804, -0.6000],\n",
      "           [ 0.0353, -0.0667,  0.2627,  ..., -0.7804, -0.7961, -0.6314],\n",
      "           ...,\n",
      "           [-0.7725, -0.7569, -0.7569,  ..., -0.6078, -0.7020, -0.5373],\n",
      "           [-0.5529, -0.5765, -0.5765,  ..., -0.2314, -0.4745, -0.3333],\n",
      "           [ 0.5059,  0.4353,  0.4353,  ...,  0.4745,  0.4431,  0.4745]],\n",
      "\n",
      "          [[-0.2706, -0.3961,  0.1451,  ..., -0.7882, -0.8196, -0.5373],\n",
      "           [-0.1608, -0.1451,  0.3647,  ..., -0.8196, -0.8196, -0.6078],\n",
      "           [-0.0196, -0.1451,  0.1529,  ..., -0.8431, -0.8353, -0.6392],\n",
      "           ...,\n",
      "           [-0.8118, -0.7882, -0.7647,  ..., -0.6549, -0.7333, -0.5451],\n",
      "           [-0.5608, -0.5843, -0.5765,  ..., -0.2471, -0.4902, -0.3333],\n",
      "           [ 0.5059,  0.4353,  0.4353,  ...,  0.4667,  0.4510,  0.4745]],\n",
      "\n",
      "          [[-0.3882, -0.5059,  0.1294,  ..., -0.8353, -0.8510, -0.5529],\n",
      "           [-0.2784, -0.2471,  0.3490,  ..., -0.8588, -0.8510, -0.6235],\n",
      "           [-0.1373, -0.2235,  0.1373,  ..., -0.8824, -0.8667, -0.6549],\n",
      "           ...,\n",
      "           [-0.8745, -0.8353, -0.8510,  ..., -0.7412, -0.8039, -0.5843],\n",
      "           [-0.5922, -0.6078, -0.6157,  ..., -0.2863, -0.5216, -0.3490],\n",
      "           [ 0.4980,  0.4353,  0.4353,  ...,  0.4667,  0.4431,  0.4745]]]],\n",
      "\n",
      "\n",
      "\n",
      "        [[[[ 0.8667,  0.8588,  0.8745,  ...,  0.8745,  0.8745,  0.8745],\n",
      "           [ 0.8353,  0.8431,  0.8588,  ...,  0.8588,  0.8588,  0.8588],\n",
      "           [ 0.8588,  0.8431,  0.8510,  ...,  0.8588,  0.8588,  0.8588],\n",
      "           ...,\n",
      "           [ 0.8745,  0.8588,  0.8824,  ...,  0.8588,  0.8588,  0.8510],\n",
      "           [ 0.8902,  0.8588,  0.8588,  ...,  0.8745,  0.8745,  0.8667],\n",
      "           [ 0.8902,  0.8588,  0.8510,  ...,  0.8588,  0.8588,  0.8745]],\n",
      "\n",
      "          [[ 0.7412,  0.7098,  0.7255,  ...,  0.7255,  0.7255,  0.7255],\n",
      "           [ 0.7098,  0.7020,  0.7098,  ...,  0.7098,  0.7098,  0.7098],\n",
      "           [ 0.7098,  0.7020,  0.7020,  ...,  0.7098,  0.7020,  0.7098],\n",
      "           ...,\n",
      "           [ 0.7255,  0.7098,  0.7333,  ...,  0.7098,  0.7098,  0.7020],\n",
      "           [ 0.7333,  0.7098,  0.7098,  ...,  0.7255,  0.7255,  0.7176],\n",
      "           [ 0.7412,  0.7098,  0.7020,  ...,  0.7098,  0.7098,  0.7255]],\n",
      "\n",
      "          [[ 0.4902,  0.4588,  0.4745,  ...,  0.4745,  0.4745,  0.4667],\n",
      "           [ 0.4353,  0.4431,  0.4588,  ...,  0.4588,  0.4588,  0.4588],\n",
      "           [ 0.4510,  0.4431,  0.4510,  ...,  0.4588,  0.4510,  0.4588],\n",
      "           ...,\n",
      "           [ 0.4667,  0.4588,  0.4824,  ...,  0.4588,  0.4588,  0.4510],\n",
      "           [ 0.4824,  0.4588,  0.4588,  ...,  0.4745,  0.4745,  0.4667],\n",
      "           [ 0.4902,  0.4588,  0.4510,  ...,  0.4588,  0.4588,  0.4745]]]]],\n",
      "       device='cuda:0')\n"
     ]
    },
    {
     "ename": "AttributeError",
     "evalue": "module 'torch.cuda.amp' has no attribute 'autocast'",
     "output_type": "error",
     "traceback": [
      "\u001b[0;31m---------------------------------------------------------------------------\u001b[0m",
      "\u001b[0;31mAttributeError\u001b[0m                            Traceback (most recent call last)",
      "\u001b[0;32m<ipython-input-8-946ea3718616>\u001b[0m in \u001b[0;36m<module>\u001b[0;34m\u001b[0m\n\u001b[0;32m----> 1\u001b[0;31m \u001b[0mlg\u001b[0m\u001b[0;34m.\u001b[0m\u001b[0mtrain\u001b[0m\u001b[0;34m.\u001b[0m\u001b[0msuperv\u001b[0m\u001b[0;34m(\u001b[0m\u001b[0mmodel\u001b[0m\u001b[0;34m,\u001b[0m \u001b[0mopt\u001b[0m\u001b[0;34m,\u001b[0m \u001b[0mdataset\u001b[0m\u001b[0;34m,\u001b[0m \u001b[0;34m\"x\"\u001b[0m\u001b[0;34m,\u001b[0m \u001b[0;34m\"labels\"\u001b[0m\u001b[0;34m,\u001b[0m \u001b[0mDIST_VEC_SIZE\u001b[0m\u001b[0;34m,\u001b[0m \u001b[0mLABELS\u001b[0m\u001b[0;34m[\u001b[0m\u001b[0;34m:\u001b[0m\u001b[0mINIT_NUM_LAB\u001b[0m\u001b[0;34m]\u001b[0m\u001b[0;34m,\u001b[0m \u001b[0mLAMBDA\u001b[0m\u001b[0;34m,\u001b[0m \u001b[0;34m(\u001b[0m\u001b[0mdevice\u001b[0m\u001b[0;34m,\u001b[0m \u001b[0mscaler\u001b[0m\u001b[0;34m)\u001b[0m\u001b[0;34m,\u001b[0m \u001b[0msubgraph_size\u001b[0m\u001b[0;34m=\u001b[0m\u001b[0mSUBGRPAH_SIZE\u001b[0m\u001b[0;34m)\u001b[0m\u001b[0;34m\u001b[0m\u001b[0;34m\u001b[0m\u001b[0m\n\u001b[0m\u001b[1;32m      2\u001b[0m \u001b[0;34m\u001b[0m\u001b[0m\n\u001b[1;32m      3\u001b[0m \u001b[0;32mfor\u001b[0m \u001b[0mnum_labels\u001b[0m \u001b[0;32min\u001b[0m \u001b[0mrange\u001b[0m\u001b[0;34m(\u001b[0m\u001b[0mINIT_NUM_LAB\u001b[0m\u001b[0;34m,\u001b[0m \u001b[0mnum_of_labels\u001b[0m \u001b[0;34m+\u001b[0m \u001b[0;36m1\u001b[0m\u001b[0;34m)\u001b[0m\u001b[0;34m:\u001b[0m\u001b[0;34m\u001b[0m\u001b[0;34m\u001b[0m\u001b[0m\n\u001b[1;32m      4\u001b[0m \u001b[0;34m\u001b[0m\u001b[0m\n\u001b[1;32m      5\u001b[0m     \u001b[0mretrain_track\u001b[0m \u001b[0;34m=\u001b[0m \u001b[0mnum_labels\u001b[0m\u001b[0;34m%\u001b[0m\u001b[0;36m30\u001b[0m\u001b[0;34m\u001b[0m\u001b[0;34m\u001b[0m\u001b[0m\n",
      "\u001b[0;32m/media/josuecom/Dev/dev/Projects/LIGN/lign/train.py\u001b[0m in \u001b[0;36msuperv\u001b[0;34m(model, opt, graph, tag_in, tag_out, vec_size, labels, Lambda, device, epochs, subgraph_size)\u001b[0m\n\u001b[1;32m     83\u001b[0m \u001b[0;34m\u001b[0m\u001b[0m\n\u001b[1;32m     84\u001b[0m         \u001b[0;32mif\u001b[0m \u001b[0mamp_enable\u001b[0m\u001b[0;34m:\u001b[0m\u001b[0;34m\u001b[0m\u001b[0;34m\u001b[0m\u001b[0m\n\u001b[0;32m---> 85\u001b[0;31m             \u001b[0;32mwith\u001b[0m \u001b[0mth\u001b[0m\u001b[0;34m.\u001b[0m\u001b[0mcuda\u001b[0m\u001b[0;34m.\u001b[0m\u001b[0mamp\u001b[0m\u001b[0;34m.\u001b[0m\u001b[0mautocast\u001b[0m\u001b[0;34m(\u001b[0m\u001b[0;34m)\u001b[0m\u001b[0;34m:\u001b[0m\u001b[0;34m\u001b[0m\u001b[0;34m\u001b[0m\u001b[0m\n\u001b[0m\u001b[1;32m     86\u001b[0m                 \u001b[0mout1\u001b[0m \u001b[0;34m=\u001b[0m \u001b[0mmodel\u001b[0m\u001b[0;34m(\u001b[0m\u001b[0msub\u001b[0m\u001b[0;34m,\u001b[0m \u001b[0minp\u001b[0m\u001b[0;34m)\u001b[0m\u001b[0;34m\u001b[0m\u001b[0;34m\u001b[0m\u001b[0m\n\u001b[1;32m     87\u001b[0m                 \u001b[0mout2\u001b[0m \u001b[0;34m=\u001b[0m \u001b[0mtemp_ly\u001b[0m\u001b[0;34m(\u001b[0m\u001b[0msub\u001b[0m\u001b[0;34m,\u001b[0m \u001b[0mout1\u001b[0m\u001b[0;34m)\u001b[0m\u001b[0;34m\u001b[0m\u001b[0;34m\u001b[0m\u001b[0m\n",
      "\u001b[0;31mAttributeError\u001b[0m: module 'torch.cuda.amp' has no attribute 'autocast'"
     ]
    }
   ],
   "source": [
    "lg.train.superv(model, opt, dataset, \"x\", \"labels\", DIST_VEC_SIZE, LABELS[:INIT_NUM_LAB], LAMBDA, (device, scaler), subgraph_size=SUBGRPAH_SIZE)\n",
    "\n",
    "for num_labels in range(INIT_NUM_LAB, num_of_labels + 1):\n",
    "\n",
    "    retrain_track = num_labels%30\n",
    "    if retrain_track == 15:\n",
    "        lg.train.semi_superv(model, opt, dataset, \"x\", \"labels\", DIST_VEC_SIZE, LABELS[:num_labels], LAMBDA, (device, scaler), subgraph_size=SUBGRPAH_SIZE, cluster=(utl.clustering.NN(), 3))\n",
    "    elif retrain_track == 0:\n",
    "        lg.train.superv(model, opt, dataset, \"x\", \"labels\", DIST_VEC_SIZE, LABELS[:num_labels], LAMBDA, (device, scaler), subgraph_size=SUBGRPAH_SIZE)\n",
    "    \n",
    "    acc = lg.test.accuracy(model, validate, dataset, \"x\", \"labels\", LABELS[:num_labels], cluster=(utl.clustering.NN(), 3), device=device)\n",
    "    accuracy.append(acc)\n",
    "    log.append(\"Label: {}/{} | Accuracy: {} | Unsurpervised Retraining: {} | Surpervised Retraining: {}\".format(num_labels, num_of_labels, acc, retrain_track == 15, retrain_track == 0))\n",
    "    print(log[-1])\n"
   ]
  },
  {
   "cell_type": "markdown",
   "metadata": {},
   "source": [
    "### Save State"
   ]
  },
  {
   "cell_type": "code",
   "execution_count": null,
   "metadata": {},
   "outputs": [],
   "source": [
    "time = tm_now()\n",
    "\n",
    "## Save metrics\n",
    "metrics = {\n",
    "    \"accuracy\": accuracy,\n",
    "    \"log\": log\n",
    "}\n",
    "utl.io.json(metrics, \"data/metrics/LIGN_training_\"+str(time)+\".json\")\n",
    "\n",
    "## Save model checkpoint\n",
    "check = {\n",
    "    \"model\": model.state_dict(),\n",
    "    \"optimizer\": opt.state_dict()\n",
    "}\n",
    "if AMP_ENABLE:\n",
    "    check[\"scaler\"] = scaler.state_dict()\n",
    "\n",
    "th.save(check, \"data/models/LIGN_training_\"+str(time)+\".pt\")"
   ]
  },
  {
   "cell_type": "markdown",
   "metadata": {},
   "source": [
    "---\n",
    "## View\n",
    "### Performance"
   ]
  },
  {
   "cell_type": "code",
   "execution_count": null,
   "metadata": {},
   "outputs": [],
   "source": []
  },
  {
   "cell_type": "markdown",
   "metadata": {},
   "source": [
    "### Graph"
   ]
  },
  {
   "cell_type": "code",
   "execution_count": null,
   "metadata": {},
   "outputs": [],
   "source": []
  }
 ],
 "metadata": {
  "kernelspec": {
   "display_name": "Python 3",
   "language": "python",
   "name": "python3"
  },
  "language_info": {
   "codemirror_mode": {
    "name": "ipython",
    "version": 3
   },
   "file_extension": ".py",
   "mimetype": "text/x-python",
   "name": "python",
   "nbconvert_exporter": "python",
   "pygments_lexer": "ipython3",
   "version": "3.8.3"
  }
 },
 "nbformat": 4,
 "nbformat_minor": 4
}
